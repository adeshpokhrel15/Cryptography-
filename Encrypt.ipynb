{
  "nbformat": 4,
  "nbformat_minor": 0,
  "metadata": {
    "colab": {
      "name": "Encrypt.ipynb",
      "provenance": [],
      "collapsed_sections": []
    },
    "kernelspec": {
      "display_name": "Python 3",
      "name": "python3"
    },
    "language_info": {
      "name": "python"
    }
  },
  "cells": [
    {
      "cell_type": "code",
      "metadata": {
        "id": "HbxkXtixhtC9",
        "colab": {
          "base_uri": "https://localhost:8080/"
        },
        "outputId": "07f5f690-cb8c-4064-8f81-e3c839f3e78d"
      },
      "source": [
        "def encrypt(text,s):\n",
        "    result = \"\"\n",
        "   # transverse the plain text\n",
        "    for i in range(len(text)):\n",
        "        char = text[i]\n",
        "      # Encrypt uppercase characters in plain text\n",
        "      \n",
        "        if (char.isupper()):\n",
        "            result += chr((ord(char) + s-65) % 26 + 65)\n",
        "      # Encrypt lowercase characters in plain text\n",
        "        else:\n",
        "            result += chr((ord(char) + s - 97) % 26 + 97)\n",
        "    return result\n",
        "#check the above function\n",
        "text = input('\"Enter your text:')\n",
        "s = 20\n",
        "\n",
        "\n",
        "print (\"Plain Text : \" + text)\n",
        "print (\"Shift pattern : \" + str(s))\n",
        "print (\"Cipher: \" + encrypt(text,s))"
      ],
      "execution_count": 4,
      "outputs": [
        {
          "output_type": "stream",
          "text": [
            "\"Enter your text:eearagagaga\n",
            "Plain Text : eearagagaga\n",
            "Shift pattern : 20\n",
            "Cipher: yyuluauauau\n"
          ],
          "name": "stdout"
        }
      ]
    },
    {
      "cell_type": "code",
      "metadata": {
        "id": "rBWVtvZrkP7G"
      },
      "source": [
        ""
      ],
      "execution_count": null,
      "outputs": []
    }
  ]
}