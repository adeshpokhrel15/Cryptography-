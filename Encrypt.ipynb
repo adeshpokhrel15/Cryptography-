{
  "nbformat": 4,
  "nbformat_minor": 0,
  "metadata": {
    "colab": {
      "name": "Encrypt.ipynb",
      "provenance": [],
      "collapsed_sections": []
    },
    "kernelspec": {
      "display_name": "Python 3",
      "name": "python3"
    },
    "language_info": {
      "name": "python"
    }
  },
  "cells": [
    {
      "cell_type": "code",
      "metadata": {
        "colab": {
          "base_uri": "https://localhost:8080/"
        },
        "id": "HbxkXtixhtC9",
        "outputId": "acb39ce2-7361-4c6a-eb72-5bc1ec79ab94"
      },
      "source": [
        "shift = input (\"Enter the Shift count:\")   #for shift count\n",
        "\n",
        "text = input(\"Enter your desired text:\")   #for your text\n",
        "\n",
        "encryption = \"\"\n",
        "\n",
        "for c in text:\n",
        "\n",
        "    # check if character is an uppercase letter\n",
        "    if c.isupper():\n",
        "\n",
        "        # find the position in 0-25\n",
        "        c_unicode = ord(c)\n",
        "\n",
        "        c_index = ord(c) - ord(\"A\")\n",
        "\n",
        "        # perform the shift\n",
        "        new_index = (c_index + shift) % 26\n",
        "\n",
        "        # convert to new character\n",
        "        new_unicode = new_index + ord(\"A\")\n",
        "\n",
        "        new_character = chr(new_unicode)\n",
        "\n",
        "        # append to encrypted string\n",
        "        encryption = encryption + new_character\n",
        "\n",
        "    else:\n",
        "\n",
        "        # since character is not uppercase, leave it as it is\n",
        "        encryption += c\n",
        "        \n",
        "print(\"Plain text:\",text)\n",
        "\n",
        "print(\"Encrypted text:\",encryption)"
      ],
      "execution_count": 22,
      "outputs": [
        {
          "output_type": "stream",
          "text": [
            "Enter the Shift count:2\n",
            "Enter your desired text:jahjdhqwdqw\n",
            "Plain text: jahjdhqwdqw\n",
            "Encrypted text: jahjdhqwdqw\n"
          ],
          "name": "stdout"
        }
      ]
    },
    {
      "cell_type": "code",
      "metadata": {
        "id": "rBWVtvZrkP7G"
      },
      "source": [
        ""
      ],
      "execution_count": 21,
      "outputs": []
    }
  ]
}