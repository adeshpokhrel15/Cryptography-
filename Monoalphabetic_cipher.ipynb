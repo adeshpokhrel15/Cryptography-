{
  "nbformat": 4,
  "nbformat_minor": 0,
  "metadata": {
    "colab": {
      "name": "Monoalphabetic cipher.ipynb",
      "provenance": [],
      "collapsed_sections": []
    },
    "kernelspec": {
      "display_name": "Python 3",
      "name": "python3"
    },
    "language_info": {
      "name": "python"
    }
  },
  "cells": [
    {
      "cell_type": "code",
      "metadata": {
        "id": "zYyn9OWIshrw",
        "colab": {
          "base_uri": "https://localhost:8080/"
        },
        "outputId": "5547cd32-9fa9-487f-f831-8d15270b2422"
      },
      "source": [
        "'''For Encryption using Monoalohabetic cipher '''\n",
        "def encrypt(message, key):  \n",
        "  cipher = \"\"\n",
        "  for i in message:\n",
        "    if i.isupper():\n",
        "      cipher += chr((ord(i) + key - 65) % 26 + 65)\n",
        "    elif i.islower():\n",
        "      cipher += chr((ord(i) + key - 97) % 26 + 97)\n",
        "  else:\n",
        "      cipher+=\" \"\n",
        "  return cipher\n",
        "\n",
        "message = input(\"Enter the message:\")\n",
        "key = input(\"Enter the key numeric value or any alphabet:\")\n",
        "if key.isupper():\n",
        "  key = ord(key) - 65\n",
        "elif key.islower():\n",
        "  key = ord(key) - 97\n",
        "else:\n",
        "  key = int(key)\n",
        "print(\"Cipher:\", encrypt(message, key))"
      ],
      "execution_count": null,
      "outputs": [
        {
          "output_type": "stream",
          "text": [
            "Enter the message:hahahaha\n",
            "Enter the key numeric value or any alphabet:7\n",
            "Cipher: ohohohoh \n"
          ],
          "name": "stdout"
        }
      ]
    },
    {
      "cell_type": "code",
      "metadata": {
        "id": "bKWcjJ-PAPXe"
      },
      "source": [
        ""
      ],
      "execution_count": null,
      "outputs": []
    },
    {
      "cell_type": "code",
      "metadata": {
        "id": "NFgtyAJj-5w1",
        "colab": {
          "base_uri": "https://localhost:8080/"
        },
        "outputId": "32a2d0b8-ed95-483b-886c-9b19920b3e05"
      },
      "source": [
        "'''For Decryption using Monoalohabetic cipher '''\n",
        "def decrypt(cipher, key):\n",
        "  message = \"\"\n",
        "  for i in cipher:\n",
        "    if i.isupper():\n",
        "      message += chr((ord(i) - key - 65) % 26 + 65)\n",
        "    elif i.islower():\n",
        "      message += chr((ord(i) - key - 97) % 26 + 97)\n",
        "    else:\n",
        "      message+=\" \"\n",
        "  return message\n",
        "\n",
        "cipher = input(\"Enter the cipher:\")\n",
        "key = input(\"Enter the key numeric value or any alphabet:\")\n",
        "if key.isupper():\n",
        "  key = ord(key) - 65\n",
        "elif key.islower():\n",
        "  key = ord(key) - 97\n",
        "else:\n",
        "  key = int(key)\n",
        "print(\"Message\", decrypt(cipher, key))"
      ],
      "execution_count": 14,
      "outputs": [
        {
          "output_type": "stream",
          "text": [
            "Enter the cipher:ohohoho\n",
            "Enter the key numeric value or any alphabet:7\n",
            "Message hahahah\n"
          ],
          "name": "stdout"
        }
      ]
    },
    {
      "cell_type": "code",
      "metadata": {
        "id": "mCWmriXARqUH"
      },
      "source": [
        ""
      ],
      "execution_count": null,
      "outputs": []
    }
  ]
}