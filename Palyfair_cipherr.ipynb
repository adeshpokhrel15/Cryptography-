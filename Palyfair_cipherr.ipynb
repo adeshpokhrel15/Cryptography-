{
  "nbformat": 4,
  "nbformat_minor": 0,
  "metadata": {
    "colab": {
      "name": "Palyfair cipherr.ipynb",
      "provenance": [],
      "collapsed_sections": []
    },
    "kernelspec": {
      "display_name": "Python 3",
      "name": "python3"
    },
    "language_info": {
      "name": "python"
    }
  },
  "cells": [
    {
      "cell_type": "code",
      "metadata": {
        "id": "zYyn9OWIshrw"
      },
      "source": [
        "\n"
      ],
      "execution_count": null,
      "outputs": []
    },
    {
      "cell_type": "code",
      "metadata": {
        "id": "haOxYkU2to-7",
        "colab": {
          "base_uri": "https://localhost:8080/"
        },
        "outputId": "f67d567c-84b7-475e-e500-29a57c494f83"
      },
      "source": [
        "key=input(\"Enter key\")\n",
        "key=key.replace(\" \", \"\")\n",
        "key=key.upper()\n",
        "def matrix(x,y,initial):\n",
        "  return [[initial for i in range(x)] for j in range(y)]\n",
        "result=list()\n",
        "for c in key: #storing key\n",
        "  if c not in result:\n",
        "    if c=='J':\n",
        "      result.append('I')\n",
        "    else:\n",
        "      result.append(c)\n",
        "flag=0\n",
        "for i in range(65,91): #storing other character\n",
        "  if chr(i) not in result:\n",
        "    if i==73 and chr(74) not in result:\n",
        "      result.append(\"I\")\n",
        "      flag=1\n",
        "    elif flag==0 and i==73 or i==74:\n",
        "      pass\n",
        "    else:\n",
        "      result.append(chr(i))\n",
        "k=0\n",
        "my_matrix=matrix(5,5,0) #initialize matrix\n",
        "for i in range(0,5): #making matrix\n",
        "  for j in range(0,5):\n",
        "    my_matrix[i][j]=result[k]\n",
        "    k+=1\n",
        "def locindex(c): #get location of each character\n",
        "  loc=list()\n",
        "  if c=='J':\n",
        "    c='I'\n",
        "  for i ,j in enumerate(my_matrix):\n",
        "    for k,l in enumerate(j):\n",
        "      if c==l:\n",
        "        loc.append(i)\n",
        "        loc.append(k)\n",
        "        return loc\n",
        "        loc.append(i)\n",
        "        loc.append(k)\n",
        "        return loc\n",
        "'''For Encryption using Playfair cipher '''\n",
        "def encrypt(): #Encryption \n",
        " msg=str(input(\"ENTER MSG:\")) \n",
        " msg=msg.upper() \n",
        " msg=msg.replace(\" \", \"\") \n",
        " i=0 \n",
        " for s in range(0,len(msg)+1,2): \n",
        "  if s<len(msg)-1:\n",
        "   if msg[s]==msg[s+1]: \n",
        "     msg=msg[:s+1]+'X'+msg[s+1:] \n",
        "     if len(msg)%2!=0: \n",
        "      msg=msg[:]+'X' \n",
        " print(\"CIPHER TEXT:\",end=' ') \n",
        " while i<len(msg): \n",
        "  loc=list() \n",
        " loc=locindex(msg[i]) \n",
        " loc1=list() \n",
        " loc1=locindex(msg[i+1]) \n",
        " if loc[1]==loc1[1]: \n",
        "    print(\"{}{}\".format(my_matrix[(loc[0]+1)%5][loc[1]],my_matrix[(loc1[0]+1)%5][loc1[1]]),end=' ') \n",
        " elif loc[0]==loc1[0]: \n",
        "   print(\"{}{}\".format(my_matrix[loc[0]][(loc[1]+1)%5],my_matrix[loc1[0]][(loc1[1]+1)%5]),end=' ') \n",
        " else: \n",
        "   print(\"{}{}\".format(my_matrix[loc[0]][loc1[1]],my_matrix[loc1[0]][loc[1]]),end=' ') \n",
        "   i=i+2 \n",
        "'''For Decryption using Playfair cipher '''\n",
        "def decrypt(): #decryption \n",
        " msg=str(input(\"ENTER CIPHER TEXT:\")) \n",
        " msg=msg.upper() \n",
        " msg=msg.replace(\" \", \"\") \n",
        " print(\"PLAIN TEXT:\",end=' ') \n",
        " i=0\n",
        " while i<len(msg): \n",
        "   loc=list() \n",
        "   loc=locindex(msg[i]) \n",
        "   loc1=list() \n",
        "   loc1=locindex(msg[i+1]) \n",
        "   if loc[1]==loc1[1]: \n",
        "     print(\"{}{}\".format(my_matrix[(loc[0]-1)%5][loc[1]],my_matrix[(loc1[0]-1)%5][loc1[1]]),end=' ') \n",
        "   elif loc[0]==loc1[0]: \n",
        "     print(\"{}{}\".format(my_matrix[loc[0]][(loc[1]-1)%5],my_matrix[loc1[0]][(loc1[1]-1)%5]),end=' ')\n",
        "   else:\n",
        "    print(\"{}{}\".format(my_matrix[loc[0]][loc1[1]],my_matrix[loc1[0]][loc[1]]),end=' ') \n",
        " i=i+2\n",
        "while(1): \n",
        "  choice=int(input(\"\\n 1.Encryption \\n 2.Decryption: \\n 3.EXIT\")) \n",
        "  if choice==1: \n",
        "    encrypt() \n",
        "  elif choice==2: \n",
        "    decrypt() \n",
        "  elif choice==3: \n",
        "    exit() \n",
        "  else: \n",
        "    print(\"Choose correct choice\")\n"
      ],
      "execution_count": null,
      "outputs": [
        {
          "output_type": "stream",
          "text": [
            "Enter key4\n",
            "\n",
            " 1.Encryption \n",
            " 2.Decryption: \n",
            " 3.EXIT1\n",
            "ENTER MSG:suygwwjhwhw\n",
            "CIPHER TEXT: "
          ],
          "name": "stdout"
        }
      ]
    },
    {
      "cell_type": "code",
      "metadata": {
        "id": "bKWcjJ-PAPXe"
      },
      "source": [
        ""
      ],
      "execution_count": 21,
      "outputs": []
    },
    {
      "cell_type": "code",
      "metadata": {
        "id": "obnqzdjx0mii"
      },
      "source": [
        ""
      ],
      "execution_count": null,
      "outputs": []
    }
  ]
}