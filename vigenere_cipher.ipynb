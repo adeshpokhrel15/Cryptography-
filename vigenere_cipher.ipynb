{
  "nbformat": 4,
  "nbformat_minor": 0,
  "metadata": {
    "colab": {
      "name": "vigenere_cipher.ipynb",
      "provenance": [],
      "collapsed_sections": []
    },
    "kernelspec": {
      "display_name": "Python 3",
      "name": "python3"
    },
    "language_info": {
      "name": "python"
    }
  },
  "cells": [
    {
      "cell_type": "code",
      "metadata": {
        "id": "XK0V6-VTCkx5"
      },
      "source": [
        "# This function generates the key in a cyclic manner until it's length isn't equal to the length of original text"
      ],
      "execution_count": null,
      "outputs": []
    },
    {
      "cell_type": "code",
      "metadata": {
        "id": "44HhlRptfdJ0"
      },
      "source": [
        "def generateKey(string, key):\n",
        "    key = list(key)\n",
        "    if len(string) == len(key):\n",
        "        return(key)\n",
        "    else:\n",
        "        for i in range(len(string) -\n",
        "                       len(key)):\n",
        "            key.append(key[i % len(key)])\n",
        "    return(\"\" . join(key))\n",
        "     "
      ],
      "execution_count": 9,
      "outputs": []
    },
    {
      "cell_type": "code",
      "metadata": {
        "id": "zUl-GMeRjyVd"
      },
      "source": [
        "# This function returns the  encrypted text generated with the help of the key\n",
        "def cipherText(string, key):\n",
        "    cipher_text = []\n",
        "    for i in range(len(string)):\n",
        "        x = (ord(string[i]) +\n",
        "             ord(key[i])) % 26\n",
        "        x += ord('A')\n",
        "        cipher_text.append(chr(x))\n",
        "    return(\"\" . join(cipher_text))"
      ],
      "execution_count": 10,
      "outputs": []
    },
    {
      "cell_type": "code",
      "metadata": {
        "id": "tXB8NPxnj8Pk"
      },
      "source": [
        "#This function decrypts the encrypted text and returns the original text\n",
        "def originalText(cipher_text, key):\n",
        "    orig_text = []\n",
        "    for i in range(len(cipher_text)):\n",
        "        x = (ord(cipher_text[i]) -\n",
        "             ord(key[i]) + 26) % 26\n",
        "        x += ord('A')\n",
        "        orig_text.append(chr(x))\n",
        "    return(\"\" . join(orig_text))"
      ],
      "execution_count": 11,
      "outputs": []
    },
    {
      "cell_type": "code",
      "metadata": {
        "colab": {
          "base_uri": "https://localhost:8080/"
        },
        "id": "uCuHNni2kOtX",
        "outputId": "36af37cc-459d-4e76-838c-e15ae8308482"
      },
      "source": [
        "# Driver code\n",
        "if __name__ == \"__main__\":\n",
        "    string = \"HAMRONEPAL\"\n",
        "    keyword = \"Adesh\"\n",
        "    key = generateKey(string, keyword)\n",
        "    cipher_text = cipherText(string,key)\n",
        "    print(\"Ciphertext :\", cipher_text)\n",
        "    print(\"Original/Decrypted Text :\",\n",
        "           originalText(cipher_text, key))\n",
        " "
      ],
      "execution_count": 12,
      "outputs": [
        {
          "output_type": "stream",
          "text": [
            "Ciphertext : HJWPBNNZYY\n",
            "Original/Decrypted Text : HAMRONEPAL\n"
          ],
          "name": "stdout"
        }
      ]
    },
    {
      "cell_type": "code",
      "metadata": {
        "id": "SVJSrWEmkUBj"
      },
      "source": [
        ""
      ],
      "execution_count": 12,
      "outputs": []
    }
  ]
}