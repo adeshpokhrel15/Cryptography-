{
  "nbformat": 4,
  "nbformat_minor": 0,
  "metadata": {
    "colab": {
      "name": "Decrypt.ipynb",
      "provenance": [],
      "collapsed_sections": []
    },
    "kernelspec": {
      "display_name": "Python 3",
      "name": "python3"
    },
    "language_info": {
      "name": "python"
    }
  },
  "cells": [
    {
      "cell_type": "code",
      "metadata": {
        "id": "HbxkXtixhtC9"
      },
      "source": [
        "shift = input (\"Enter the Shift count:\")   #for shift count\n",
        "\n",
        "text = input(\"Enter your desired text:\")   #for your text\n",
        "\n",
        "plain_text = \"\"\n",
        "\n",
        "for c in encrypted_text:\n",
        "\n",
        "    # check if character is an uppercase letter\n",
        "    if c.isupper():\n",
        "\n",
        "        # find the position in 0-25\n",
        "        c_unicode = ord(c)\n",
        "\n",
        "        c_index = ord(c) - ord(\"A\")\n",
        "\n",
        "        # perform the negative shift\n",
        "        new_index = (c_index - shift) % 26\n",
        "\n",
        "        # convert to new character\n",
        "        new_unicode = new_index + ord(\"A\")\n",
        "\n",
        "        new_character = chr(new_unicode)\n",
        "\n",
        "        # append to plain string\n",
        "        plain_text = plain_text + new_character\n",
        "\n",
        "    else:\n",
        "\n",
        "        # since character is not uppercase, leave it as it is\n",
        "        plain_text += c\n",
        "\n",
        "print(\"Encrypted text:\",encrypted_text)\n",
        "\n",
        "print(\"Decrypted text:\",plain_text)"
      ],
      "execution_count": null,
      "outputs": []
    },
    {
      "cell_type": "code",
      "metadata": {
        "id": "rBWVtvZrkP7G"
      },
      "source": [
        ""
      ],
      "execution_count": 21,
      "outputs": []
    }
  ]
}