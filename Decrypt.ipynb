{
  "nbformat": 4,
  "nbformat_minor": 0,
  "metadata": {
    "colab": {
      "name": "Decrypt.ipynb",
      "provenance": [],
      "collapsed_sections": []
    },
    "kernelspec": {
      "display_name": "Python 3",
      "name": "python3"
    },
    "language_info": {
      "name": "python"
    }
  },
  "cells": [
    {
      "cell_type": "code",
      "metadata": {
        "id": "rBWVtvZrkP7G",
        "colab": {
          "base_uri": "https://localhost:8080/"
        },
        "outputId": "20361125-4227-4feb-ec23-dd98621be295"
      },
      "source": [
        "def decrypt(ciphertext,key):\n",
        "\tresult = \"\"\n",
        "\t# traverse text\n",
        "\tfor i in range(len(ciphertext)):\n",
        "\t\tchar = ciphertext[i]\n",
        "\t\t# Encrypt uppercase characters\n",
        "\t\tif (char.isupper()):\n",
        "\t\t\tresult += chr((ord(char) - key-65) % 26 + 65)\n",
        "\n",
        "\t\t# Encrypt lowercase characters\n",
        "\t\telse:\n",
        "\t\t\tresult += chr((ord(char) - key - 97) % 26 + 97)\n",
        "\treturn result\n",
        "#check the above function\n",
        "\n",
        "ciphertext= input(\"Enter the text:\")\n",
        "key = input(\"Enter the shift count:\")\n",
        "print (\"Text : \" + ciphertext)\n",
        "print (\"Shift : \" + str(key))\n",
        "print (\"Cipher: \" + decrypt(ciphertext,key))"
      ],
      "execution_count": 21,
      "outputs": [
        {
          "output_type": "stream",
          "text": [
            "Enter the text:qqqqqmsmniss\n",
            "Text : qqqqqmsmniss\n",
            "Shift : 2\n",
            "Cipher: oooookqklgqq\n"
          ],
          "name": "stdout"
        }
      ]
    },
    {
      "cell_type": "code",
      "metadata": {
        "id": "ZOwGYQGcn5UC"
      },
      "source": [
        ""
      ],
      "execution_count": null,
      "outputs": []
    }
  ]
}