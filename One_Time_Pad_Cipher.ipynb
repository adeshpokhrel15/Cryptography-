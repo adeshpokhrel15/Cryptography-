{
  "nbformat": 4,
  "nbformat_minor": 0,
  "metadata": {
    "colab": {
      "name": "One Time Pad Cipher.ipynb",
      "provenance": [],
      "collapsed_sections": []
    },
    "kernelspec": {
      "display_name": "Python 3",
      "name": "python3"
    },
    "language_info": {
      "name": "python"
    }
  },
  "cells": [
    {
      "cell_type": "code",
      "metadata": {
        "id": "FjCKfGMvqgaL",
        "colab": {
          "base_uri": "https://localhost:8080/"
        },
        "outputId": "a326bd37-6c11-49d6-fc98-4ab6c2b8c3a9"
      },
      "source": [
        "# Python code to omplement one time pad\n",
        "\n",
        "def Cypher( text, key ):\n",
        "    # Returns the Cypher for given string and key \n",
        "    answer = \"\" # the Cypher text\n",
        "    p = 0 # pointer for the key\n",
        "    for char in text:\n",
        "        answer += chr(ord(char) ^ ord(key[p]))\n",
        "        p += 1\n",
        "        if p==len(key):\n",
        "            p = 0\n",
        "    return answer\n",
        "\n",
        "                      \n",
        "MY_KEY = \"encryption\"\n",
        "while True:\n",
        "    PlainText = input(\"Enter text to encrypt: \")\n",
        "    # Encrypt\n",
        "    encrypt = Cypher(PlainText, MY_KEY)\n",
        "    print(\"Cypher text: \"+encrypt)\n",
        "    # Decrypt\n",
        "    decrypt = Cypher(encrypt, MY_KEY)\n",
        "    print(\"Decrypt: \"+decrypt)"
      ],
      "execution_count": null,
      "outputs": [
        {
          "output_type": "stream",
          "text": [
            "Enter text to encrypt: yhahava\n",
            "Cypher text: \u001c\u0006\u0002\u001a\u0018\u0006\u0015\n",
            "Decrypt: yhahava\n"
          ],
          "name": "stdout"
        }
      ]
    },
    {
      "cell_type": "code",
      "metadata": {
        "id": "KcGhWtwhzTO-"
      },
      "source": [
        ""
      ],
      "execution_count": null,
      "outputs": []
    }
  ]
}